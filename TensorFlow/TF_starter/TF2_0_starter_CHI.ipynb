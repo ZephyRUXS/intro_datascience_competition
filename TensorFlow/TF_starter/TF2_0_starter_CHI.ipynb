{
  "nbformat": 4,
  "nbformat_minor": 0,
  "metadata": {
    "colab": {
      "provenance": []
    },
    "kernelspec": {
      "name": "python3",
      "display_name": "Python 3"
    },
    "language_info": {
      "name": "python"
    },
    "accelerator": "GPU",
    "gpuClass": "standard"
  },
  "cells": [
    {
      "cell_type": "markdown",
      "source": [
        "**从0开始学习用TF2.0搭建神经网络系列--1** \n",
        "\n",
        "本章内容：\n",
        "\n",
        "1.   如何加载数据集\n",
        "2.   如何搭建神经网络（Keras API）\n",
        "3.   设置训练策略（优化器，损失函数， CallBack，保存权重等）\n",
        "4.   GrandientTape 梯度带的使用\n",
        "\n",
        "\n",
        "\n",
        "\n",
        "\n",
        "\n",
        "\n"
      ],
      "metadata": {
        "id": "rOII7CGGwPsh"
      }
    },
    {
      "cell_type": "code",
      "execution_count": 1,
      "metadata": {
        "id": "uRNryOczuu2P"
      },
      "outputs": [],
      "source": [
        "import tensorflow as tf\n",
        "from scipy.io import loadmat\n",
        "import numpy as np\n",
        "import matplotlib.pyplot as plt\n",
        "import random\n",
        "\n",
        "from tensorflow.keras.models import Sequential\n",
        "from tensorflow.keras.layers import Dense, Flatten, Dropout, Conv2D, MaxPooling2D, BatchNormalization\n",
        "from tensorflow.keras.callbacks import ModelCheckpoint, EarlyStopping\n",
        "from tensorflow.keras.optimizers import Adam"
      ]
    },
    {
      "cell_type": "markdown",
      "source": [
        "**使用scipy的loadmat函数去读取mat格式的文件**"
      ],
      "metadata": {
        "id": "jQ06TNs37ms-"
      }
    },
    {
      "cell_type": "code",
      "source": [
        "train = loadmat('train_32x32.mat')\n",
        "test = loadmat('test_32x32.mat')"
      ],
      "metadata": {
        "id": "YJelay750A1R"
      },
      "execution_count": 3,
      "outputs": []
    },
    {
      "cell_type": "markdown",
      "source": [
        "**因为已经预先划分好了x，y以及训练和测试集，所以可以直接使用**"
      ],
      "metadata": {
        "id": "8NhacyC27wtM"
      }
    },
    {
      "cell_type": "code",
      "source": [
        "x_train = train['X']\n",
        "x_test = test['X']\n",
        "y_train = train['y']\n",
        "y_test = test['y']\n",
        "y_train = np.where(y_train==10, 0, y_train)\n",
        "y_test = np.where(y_test==10, 0, y_test)\n",
        "x_train = np.moveaxis(x_train, -1, 0)\n",
        "x_test = np.moveaxis(x_test, -1, 0)"
      ],
      "metadata": {
        "id": "BQ0amZy90wYE"
      },
      "execution_count": 4,
      "outputs": []
    },
    {
      "cell_type": "markdown",
      "source": [
        "**TensorFlow使用data类去对数据切片和传递数据到模型内**\n",
        "\n",
        "\n",
        "*   from_trnsor_slices切片数据\n",
        "*   shuffle函数打乱数据，batch则确定训练时候的batchsize\n",
        "\n"
      ],
      "metadata": {
        "id": "-Dwa4tgv87Ol"
      }
    },
    {
      "cell_type": "code",
      "source": [
        "train_data= tf.data.Dataset.from_tensor_slices((x_train, y_train))\n",
        "train_data = train_data.shuffle(buffer_size=1024).batch(64)"
      ],
      "metadata": {
        "id": "Bs2oQCx07xbK"
      },
      "execution_count": 5,
      "outputs": []
    },
    {
      "cell_type": "code",
      "source": [
        "test_data = tf.data.Dataset.from_tensor_slices((x_test, y_test))\n",
        "test_data=test_data.batch(64)"
      ],
      "metadata": {
        "id": "i4vf7Yks9S1c"
      },
      "execution_count": 6,
      "outputs": []
    },
    {
      "cell_type": "markdown",
      "source": [
        "**使用sequential来搭建模型（之后会介绍其他的搭建方法）**\n",
        "输入的图片大小是训练集的单个图片大小\n",
        "因为最后是一个十分类问题（0-9分类），所以最后一层全连接是10\n",
        "最后使用summary再打印模型细节参数"
      ],
      "metadata": {
        "id": "fjyVsWJ29iy8"
      }
    },
    {
      "cell_type": "code",
      "source": [
        "model = tf.keras.Sequential([\n",
        "\n",
        "    Conv2D(128, 3, padding='valid',input_shape=x_train[0].shape),\n",
        "    MaxPooling2D(pool_size=2,strides=1, padding='valid'),\n",
        "    Conv2D(64,3,padding='valid'),\n",
        "    MaxPooling2D(pool_size=2,strides=1, padding='valid'),\n",
        "    Conv2D(32, 3, padding='valid'),\n",
        "    MaxPooling2D(pool_size=2,strides=1, padding='valid'),\n",
        "    Flatten(),\n",
        "    Dense(128),\n",
        "    Dense(64),\n",
        "    Dense(10)\n",
        "])"
      ],
      "metadata": {
        "id": "GfsmvNHt9Z3N"
      },
      "execution_count": 7,
      "outputs": []
    },
    {
      "cell_type": "code",
      "source": [
        "model.summary()"
      ],
      "metadata": {
        "colab": {
          "base_uri": "https://localhost:8080/"
        },
        "id": "vmCrY5_A95fP",
        "outputId": "4c116999-c64f-4da2-96e9-2b36bc328a72"
      },
      "execution_count": 8,
      "outputs": [
        {
          "output_type": "stream",
          "name": "stdout",
          "text": [
            "Model: \"sequential\"\n",
            "_________________________________________________________________\n",
            " Layer (type)                Output Shape              Param #   \n",
            "=================================================================\n",
            " conv2d (Conv2D)             (None, 30, 30, 128)       3584      \n",
            "                                                                 \n",
            " max_pooling2d (MaxPooling2D  (None, 29, 29, 128)      0         \n",
            " )                                                               \n",
            "                                                                 \n",
            " conv2d_1 (Conv2D)           (None, 27, 27, 64)        73792     \n",
            "                                                                 \n",
            " max_pooling2d_1 (MaxPooling  (None, 26, 26, 64)       0         \n",
            " 2D)                                                             \n",
            "                                                                 \n",
            " conv2d_2 (Conv2D)           (None, 24, 24, 32)        18464     \n",
            "                                                                 \n",
            " max_pooling2d_2 (MaxPooling  (None, 23, 23, 32)       0         \n",
            " 2D)                                                             \n",
            "                                                                 \n",
            " flatten (Flatten)           (None, 16928)             0         \n",
            "                                                                 \n",
            " dense (Dense)               (None, 128)               2166912   \n",
            "                                                                 \n",
            " dense_1 (Dense)             (None, 64)                8256      \n",
            "                                                                 \n",
            " dense_2 (Dense)             (None, 10)                650       \n",
            "                                                                 \n",
            "=================================================================\n",
            "Total params: 2,271,658\n",
            "Trainable params: 2,271,658\n",
            "Non-trainable params: 0\n",
            "_________________________________________________________________\n"
          ]
        }
      ]
    },
    {
      "cell_type": "markdown",
      "source": [
        "**将模型保存到ckpt_path这个文件， save_best_only意为是否保存最好的模型，save_weight_only意为是否只保存权重还是保存模型信息，save_freq是保存的频率，monitor和mode定义了什么是最好的模型**"
      ],
      "metadata": {
        "id": "HwNmwMWv_H3S"
      }
    },
    {
      "cell_type": "code",
      "source": [
        "ckpt_path = 'ckpt'\n",
        "cp = ModelCheckpoint(ckpt_path,\n",
        "           save_best_only=True,\n",
        "           save_weights_only=True,\n",
        "           save_freq='epoch',\n",
        "           monitor='loss',\n",
        "           mode='min')"
      ],
      "metadata": {
        "id": "Vr9dwgB099nO"
      },
      "execution_count": 13,
      "outputs": []
    },
    {
      "cell_type": "markdown",
      "source": [
        "**设定模型什么时候停下**"
      ],
      "metadata": {
        "id": "sT0AGIAx_1VF"
      }
    },
    {
      "cell_type": "code",
      "source": [
        "EarlyStop = EarlyStopping(monitor='loss', mode='min', patience=3)"
      ],
      "metadata": {
        "id": "bJkZKBN2_sKF"
      },
      "execution_count": 14,
      "outputs": []
    },
    {
      "cell_type": "markdown",
      "source": [
        "**编译模型，其中定义了优化器，损失函数和metrics**"
      ],
      "metadata": {
        "id": "0C-4L3kE_5ql"
      }
    },
    {
      "cell_type": "code",
      "source": [
        "model.compile(optimizer='adam', loss='sparse_categorical_crossentropy', metrics=['accuracy'])"
      ],
      "metadata": {
        "id": "S-bSS9gO_xi1"
      },
      "execution_count": 15,
      "outputs": []
    },
    {
      "cell_type": "code",
      "source": [
        "history = model.fit(train_data, epochs=10, batch_size=64,\n",
        "                        verbose=1, validation_split=0, callbacks=[cp, EarlyStop])"
      ],
      "metadata": {
        "colab": {
          "base_uri": "https://localhost:8080/"
        },
        "id": "n27zD-L3ABk3",
        "outputId": "f01b7de6-a0de-49f4-9d6c-0f2f723e0b38"
      },
      "execution_count": 17,
      "outputs": [
        {
          "output_type": "stream",
          "name": "stdout",
          "text": [
            "Epoch 1/10\n",
            "1145/1145 [==============================] - 9s 8ms/step - loss: 9.5016 - accuracy: 0.0689\n",
            "Epoch 2/10\n",
            "1145/1145 [==============================] - 9s 8ms/step - loss: 9.5016 - accuracy: 0.0689\n",
            "Epoch 3/10\n",
            "1145/1145 [==============================] - 13s 11ms/step - loss: 9.5016 - accuracy: 0.0689\n",
            "Epoch 4/10\n",
            "1145/1145 [==============================] - 9s 8ms/step - loss: 9.5016 - accuracy: 0.0689\n",
            "Epoch 5/10\n",
            "1145/1145 [==============================] - 9s 8ms/step - loss: 9.5016 - accuracy: 0.0689\n",
            "Epoch 6/10\n",
            "1145/1145 [==============================] - 9s 8ms/step - loss: 9.5016 - accuracy: 0.0689\n",
            "Epoch 7/10\n",
            "1145/1145 [==============================] - 9s 8ms/step - loss: 9.5016 - accuracy: 0.0689\n",
            "Epoch 8/10\n",
            "1145/1145 [==============================] - 9s 8ms/step - loss: 9.5016 - accuracy: 0.0689\n"
          ]
        }
      ]
    },
    {
      "cell_type": "code",
      "source": [
        "plt.plot(history.history['loss'])\n",
        "plt.title(\"Loss Vs Epochs\")\n",
        "plt.ylabel('Loss')\n",
        "plt.xlabel('Epochs')\n",
        "plt.legend(['Training Loss'], loc='upper right')\n",
        "plt.show()"
      ],
      "metadata": {
        "colab": {
          "base_uri": "https://localhost:8080/",
          "height": 295
        },
        "id": "ug7rJyORANyw",
        "outputId": "e2586f71-82e7-4d80-adb1-cb71671fdb69"
      },
      "execution_count": 18,
      "outputs": [
        {
          "output_type": "display_data",
          "data": {
            "text/plain": [
              "<Figure size 432x288 with 1 Axes>"
            ],
            "image/png": "[encoded data removed]"
          },
          "metadata": {
            "needs_background": "light"
          }
        }
      ]
    },
    {
      "cell_type": "code",
      "source": [],
      "metadata": {
        "id": "UJeLl8v6M_Fw"
      },
      "execution_count": null,
      "outputs": []
    }
  ]
}